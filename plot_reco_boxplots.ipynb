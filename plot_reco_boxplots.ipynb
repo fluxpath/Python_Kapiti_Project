{
 "cells": [
  {
   "cell_type": "markdown",
   "metadata": {},
   "source": [
    "#  Boxplot of Reco for Dry Days vs 95th Percentile Rainfall"
   ]
  },
  {
   "cell_type": "code",
   "execution_count": null,
   "id": "c8492c77",
   "metadata": {},
   "outputs": [],
   "source": [
    "%pip install seaborn matplotlib pandas scipy\n"
   ]
  },
  {
   "cell_type": "code",
   "execution_count": 44,
   "id": "ceaf60ed",
   "metadata": {},
   "outputs": [],
   "source": [
    "# Step 1: Import libraries\n",
    "import pandas as pd\n",
    "import seaborn as sns\n",
    "import matplotlib.pyplot as plt \n",
    "import numpy as np\n",
    "import os   \n",
    "import sys\n",
    "import glob\n"
   ]
  },
  {
   "cell_type": "code",
   "execution_count": 45,
   "id": "864f4ffd",
   "metadata": {},
   "outputs": [],
   "source": [
    "from scipy.stats import ttest_ind"
   ]
  },
  {
   "cell_type": "code",
   "execution_count": 46,
   "metadata": {},
   "outputs": [],
   "source": [
    "# Step 2: Load Excel files from the Data folder\n",
    "data_kap = pd.read_excel(\"KE_KAP_daily_NEE_RECO_GPP.xlsx\")\n",
    "data_aus = pd.read_excel(\"KE_AUS_daily_NEE_RECO_GPP.xlsx\")"
   ]
  },
  {
   "cell_type": "code",
   "execution_count": 47,
   "metadata": {},
   "outputs": [],
   "source": [
    "# Step 3: Compute 95th percentile of rainfall\n",
    "ppt_95th_kap = data_kap['PPT'].quantile(0.95)\n",
    "ppt_95th_aus = data_aus['PPT'].quantile(0.95)"
   ]
  },
  {
   "cell_type": "code",
   "execution_count": 48,
   "metadata": {},
   "outputs": [],
   "source": [
    "# Step 4: Filter data based on rainfall conditions\n",
    "high_kap = data_kap[data_kap['PPT'] > ppt_95th_kap]\n",
    "high_aus = data_aus[data_aus['PPT'] > ppt_95th_aus]\n",
    "\n",
    "dry_kap = data_kap[data_kap['PPT'] == 0]\n",
    "dry_aus = data_aus[data_aus['PPT'] == 0]"
   ]
  },
  {
   "cell_type": "code",
   "execution_count": 49,
   "metadata": {},
   "outputs": [],
   "source": [
    "# Step 5: Create dataframes for boxplots\n",
    "df_high = pd.DataFrame({\n",
    "    'Reco': pd.concat([high_kap['Reco_r'], high_aus['Reco_a']], ignore_index=True),\n",
    "    'System': ['Rangeland'] * len(high_kap) + ['Cropland'] * len(high_aus),\n",
    "    'Group': ['HighRain'] * (len(high_kap) + len(high_aus))\n",
    "})\n",
    "\n",
    "df_dry = pd.DataFrame({\n",
    "    'Reco': pd.concat([dry_kap['Reco_r'], dry_aus['Reco_a']], ignore_index=True),\n",
    "    'System': ['Rangeland'] * len(dry_kap) + ['Cropland'] * len(dry_aus),\n",
    "    'Group': ['Dry'] * (len(dry_kap) + len(dry_aus))\n",
    "})\n",
    "\n",
    "df_all = pd.concat([df_dry, df_high], ignore_index=True)"
   ]
  },
  {
   "cell_type": "code",
   "execution_count": 50,
   "metadata": {},
   "outputs": [
    {
     "name": "stderr",
     "output_type": "stream",
     "text": [
      "C:\\Users\\VOdongo\\AppData\\Local\\Temp\\ipykernel_9636\\3736542453.py:11: FutureWarning: \n",
      "\n",
      "Passing `palette` without assigning `hue` is deprecated and will be removed in v0.14.0. Assign the `x` variable to `hue` and set `legend=False` for the same effect.\n",
      "\n",
      "  sns.boxplot(data=df_dry, x='System', y='Reco', ax=axes[0], palette=colors, linewidth=2, width=0.2)\n",
      "C:\\Users\\VOdongo\\AppData\\Local\\Temp\\ipykernel_9636\\3736542453.py:27: FutureWarning: \n",
      "\n",
      "Passing `palette` without assigning `hue` is deprecated and will be removed in v0.14.0. Assign the `x` variable to `hue` and set `legend=False` for the same effect.\n",
      "\n",
      "  sns.boxplot(data=df_high, x='System', y='Reco', ax=axes[1], palette=colors, linewidth=2, width=0.2)\n"
     ]
    },
    {
     "data": {
      "image/png": "[encoded data removed]",
      "text/plain": [
       "<Figure size 1200x600 with 2 Axes>"
      ]
     },
     "metadata": {},
     "output_type": "display_data"
    }
   ],
   "source": [
    "# Step 6: Plotting the dual-panel boxplot\n",
    "#sns.set(style=\"whitegrid\")\n",
    "sns.set(style=\"whitegrid\")\n",
    "\n",
    "fig, axes = plt.subplots(1, 2, figsize=(12, 6), sharey=True)\n",
    "\n",
    "# colors = {'Rangeland': '#e76f51', 'Cropland': '#2a9d8f'}\n",
    "colors = {'Rangeland': '#0173b2', 'Cropland': '#de8f05'}\n",
    "\n",
    "# Panel (a): Dry period\n",
    "sns.boxplot(data=df_dry, x='System', y='Reco', ax=axes[0], palette=colors, linewidth=2, width=0.2)\n",
    "# sns.boxplot(data=df_dry, x='System', y='Reco', hue='System',\n",
    "        #    ax=axes[0], palette=colors, linewidth=2, width=0.2, legend=False)\n",
    "#sns.boxplot(data=df_dry, x='System', y='Reco', ax=axes[0], palette=colors, linewidth=2)\n",
    "\n",
    "axes[0].set_title('(a)', loc='right', fontsize=14)\n",
    "axes[0].set_ylabel(r'$R_{eco}$ (g C m$^{-2}$ d$^{-1}$)', fontsize=12)\n",
    "axes[0].set_xlabel('')\n",
    "axes[0].text(-0.05, df_dry['Reco'].max()*1.05, f\"N={len(dry_kap)}\", ha='center', fontsize=11)\n",
    "axes[0].text(1.05, df_dry['Reco'].max()*1.05, f\"N={len(dry_aus)}\", ha='center', fontsize=11)\n",
    "_, pval_dry = ttest_ind(dry_kap['Reco_r'], dry_aus['Reco_a'], equal_var=False)\n",
    "axes[0].text(0.5, df_dry['Reco'].max()*1.1, '**' if pval_dry < 0.01 else 'ns', ha='center', fontsize=16)\n",
    "\n",
    "# Panel (b): High rainfall\n",
    "# sns.boxplot(data=df_high, x='System', y='Reco', hue='System',\n",
    "        #    ax=axes[1], palette=colors, linewidth=2, width=0.2, legend=False)\n",
    "sns.boxplot(data=df_high, x='System', y='Reco', ax=axes[1], palette=colors, linewidth=2, width=0.2)\n",
    "axes[1].set_title('(b)', loc='right', fontsize=14)\n",
    "axes[1].set_ylabel('')\n",
    "axes[1].set_xlabel('')\n",
    "axes[1].text(-0.05, df_high['Reco'].max()*1.05, f\"N={len(high_kap)}\", ha='center', fontsize=11)\n",
    "axes[1].text(1.05, df_high['Reco'].max()*1.05, f\"N={len(high_aus)}\", ha='center', fontsize=11)\n",
    "_, pval_high = ttest_ind(high_kap['Reco_r'], high_aus['Reco_a'], equal_var=False)\n",
    "axes[1].text(0.5, df_high['Reco'].max()*1.1, '**' if pval_high < 0.01 else 'ns', ha='center', fontsize=16)\n",
    "\n",
    "plt.tight_layout()\n",
    "plt.show()"
   ]
  },
  {
   "cell_type": "code",
   "execution_count": 57,
   "id": "46720c8e",
   "metadata": {},
   "outputs": [
    {
     "name": "stdout",
     "output_type": "stream",
     "text": [
      "Total rows in dry_aus: 159\n",
      "Non-NaN Reco_a values: 159\n",
      "Total rows in data_aus: 186\n",
      "Dry days in data_aus: 159\n"
     ]
    }
   ],
   "source": [
    "# Count missing values in Reco_a for dry cropland\n",
    "dry_aus['Reco_a'].isna().sum()\n",
    "print(\"Total rows in dry_aus:\", len(dry_aus))\n",
    "print(\"Non-NaN Reco_a values:\", dry_aus['Reco_a'].notna().sum())\n",
    "\n",
    "print(\"Total rows in data_aus:\", len(data_aus))\n",
    "print(\"Dry days in data_aus:\", (data_aus['PPT'] == 0).sum())\n",
    "\n"
   ]
  }
 ],
 "metadata": {
  "kernelspec": {
   "display_name": ".venv",
   "language": "python",
   "name": "python3"
  },
  "language_info": {
   "codemirror_mode": {
    "name": "ipython",
    "version": 3
   },
   "file_extension": ".py",
   "mimetype": "text/x-python",
   "name": "python",
   "nbconvert_exporter": "python",
   "pygments_lexer": "ipython3",
   "version": "3.13.3"
  }
 },
 "nbformat": 4,
 "nbformat_minor": 5
}
